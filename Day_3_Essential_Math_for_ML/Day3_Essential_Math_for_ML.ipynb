{
 "cells": [
  {
   "cell_type": "markdown",
   "id": "49d799d0",
   "metadata": {},
   "source": [
    "\n",
    "# Day 3 – Essential Math for ML\n",
    "\n",
    "This notebook covers key mathematical foundations for machine learning:\n",
    "\n",
    "**Topics:**\n",
    "1. Basic Probability & Bayes' Theorem  \n",
    "2. Common Probability Distributions  \n",
    "3. Calculus: Derivatives & Gradients  \n",
    "4. Chain Rule and Partial Derivatives  \n",
    "5. Optimization and Gradient Descent\n"
   ]
  },
  {
   "cell_type": "markdown",
   "id": "5004e45a-3007-4522-98e1-a062d727b244",
   "metadata": {},
   "source": [
    "### 1.1 : Basic Probability Rules"
   ]
  },
  {
   "cell_type": "code",
   "execution_count": 3,
   "id": "41a1767f-2d75-4f80-8672-2785a1f9581b",
   "metadata": {},
   "outputs": [
    {
     "name": "stdout",
     "output_type": "stream",
     "text": [
      "(0.5, 0.3333333333333333, 0.6666666666666666)\n"
     ]
    }
   ],
   "source": [
    "def dice_probability():\n",
    "    \"\"\"\n",
    "    Calculate probabilities for a fair 6-sided dice:\n",
    "    a) P(rolling an even number)\n",
    "    b) P(rolling number > 4)\n",
    "    c) P(rolling even OR >4) using inclusion-exclusion\n",
    "    \"\"\"\n",
    "    total = 6\n",
    "    even = {2,4,6}  # 3 outcomes\n",
    "    greater_than_4 = {5,6}  # 2 outcomes\n",
    "    intersection = even & greater_than_4  # {6}\n",
    "    \n",
    "    p_even = len(even)/total\n",
    "    p_gt4 = len(greater_than_4)/total\n",
    "    p_union = p_even + p_gt4 - len(intersection)/total\n",
    "    \n",
    "    return p_even, p_gt4, p_union\n",
    "\n",
    "print(dice_probability())  # (0.5, 0.3333, 0.6667)"
   ]
  },
  {
   "cell_type": "markdown",
   "id": "715578bc-8585-4681-8e6e-41003bf953d6",
   "metadata": {},
   "source": [
    "### 1.2 : Basic Probability Rule"
   ]
  },
  {
   "cell_type": "code",
   "execution_count": 4,
   "id": "35317358-d624-480c-939d-002518acf373",
   "metadata": {},
   "outputs": [
    {
     "name": "stdout",
     "output_type": "stream",
     "text": [
      "0.5625\n"
     ]
    }
   ],
   "source": [
    "def spam_classifier():\n",
    "    \"\"\"\n",
    "    Given:\n",
    "    - P(spam) = 0.3\n",
    "    - P(\"free\"|spam) = 0.6\n",
    "    - P(\"free\"|not spam) = 0.2\n",
    "    Calculate P(spam|\"free\") using Bayes' theorem\n",
    "    \"\"\"\n",
    "    p_spam = 0.3\n",
    "    p_free_given_spam = 0.6\n",
    "    p_free_given_not_spam = 0.2\n",
    "    \n",
    "    p_not_spam = 1 - p_spam\n",
    "    p_free = (p_free_given_spam * p_spam) + (p_free_given_not_spam * p_not_spam)\n",
    "    p_spam_given_free = (p_free_given_spam * p_spam) / p_free\n",
    "    \n",
    "    return round(p_spam_given_free, 4)\n",
    "\n",
    "print(spam_classifier())  # 0.5625"
   ]
  },
  {
   "cell_type": "markdown",
   "id": "3b7fdcce-4a2f-408a-941a-aab3e15ae14d",
   "metadata": {},
   "source": [
    "### 2.1 : Common Probability  (Bernoulli Distribution)"
   ]
  },
  {
   "cell_type": "code",
   "execution_count": 5,
   "id": "f6d5d75d-a856-4b2d-8f32-e156f17e356d",
   "metadata": {},
   "outputs": [
    {
     "name": "stdout",
     "output_type": "stream",
     "text": [
      "(np.float64(0.5), np.float64(0.0))\n"
     ]
    }
   ],
   "source": [
    "def coin_flip_experiment():\n",
    "    \"\"\"\n",
    "    Simulate 1000 fair coin flips (p=0.5)\n",
    "    Calculate:\n",
    "    a) Mean number of heads\n",
    "    b) Probability of getting exactly 500 heads\n",
    "    \"\"\"\n",
    "    import numpy as np\n",
    "    np.random.seed(42)\n",
    "    flips = np.random.binomial(n=1, p=0.5, size=1000)\n",
    "    mean_heads = np.mean(flips)\n",
    "    exactly_500 = np.sum(np.sum(flips) == 500) / 1000\n",
    "    return round(mean_heads, 2), round(exactly_500, 4)\n",
    "\n",
    "print(coin_flip_experiment())  # (~0.50, ~0.025)"
   ]
  },
  {
   "cell_type": "markdown",
   "id": "a9a6cba6-8f44-47e4-8a70-3490fae60fef",
   "metadata": {},
   "source": [
    "### 2.2 : Common Probability (Normal Distribution)¶"
   ]
  },
  {
   "cell_type": "code",
   "execution_count": 6,
   "id": "a6f5efb8-59e9-4c5c-a905-81375d186c11",
   "metadata": {},
   "outputs": [
    {
     "name": "stdout",
     "output_type": "stream",
     "text": [
      "(np.float64(0.0478), np.float64(0.495), np.float64(73.84))\n"
     ]
    }
   ],
   "source": [
    "def height_analysis():\n",
    "    \"\"\"\n",
    "    For adult male heights ~N(μ=70\", σ=3\"):\n",
    "    a) P(height < 65\")\n",
    "    b) P(68\" < height < 72\")\n",
    "    c) 90th percentile height\n",
    "    \"\"\"\n",
    "    from scipy.stats import norm\n",
    "    mu, sigma = 70, 3\n",
    "    p_short = norm.cdf(65, mu, sigma)\n",
    "    p_medium = norm.cdf(72, mu, sigma) - norm.cdf(68, mu, sigma)\n",
    "    percentile_90 = norm.ppf(0.9, mu, sigma)\n",
    "    return round(p_short, 4), round(p_medium, 4), round(percentile_90, 2)\n",
    "\n",
    "print(height_analysis())  # (0.0478, 0.4950, 73.84)"
   ]
  },
  {
   "cell_type": "markdown",
   "id": "c2278ddb-576d-4902-9808-60a11af8183e",
   "metadata": {},
   "source": [
    "### 3.1 : Calculus (Derivatives)"
   ]
  },
  {
   "cell_type": "code",
   "execution_count": 7,
   "id": "2d8d665c-c529-4454-a7df-b5050fbec246",
   "metadata": {},
   "outputs": [
    {
     "name": "stdout",
     "output_type": "stream",
     "text": [
      "4.0\n"
     ]
    }
   ],
   "source": [
    "def derivative_at_point():\n",
    "    \"\"\"\n",
    "    Compute derivative of f(x) = x² at x=2 using limit definition:\n",
    "    f'(x) = lim(h->0) [f(x+h) - f(x)]/h\n",
    "    Use h=0.0001\n",
    "    \"\"\"\n",
    "    def f(x): return x**2\n",
    "    x, h = 2, 0.0001\n",
    "    derivative = (f(x+h) - f(x)) / h\n",
    "    return round(derivative, 2)\n",
    "\n",
    "print(derivative_at_point())  # 4.00"
   ]
  },
  {
   "cell_type": "markdown",
   "id": "108113bb-84d5-4e7d-af42-a4c5e5ac0d7a",
   "metadata": {},
   "source": [
    "### 3.2 Calculus (Gradient)"
   ]
  },
  {
   "cell_type": "code",
   "execution_count": 8,
   "id": "24da2e94-8e76-4fa5-a480-67ee1932201a",
   "metadata": {},
   "outputs": [
    {
     "name": "stdout",
     "output_type": "stream",
     "text": [
      "(14, 0.6)\n"
     ]
    }
   ],
   "source": [
    "def quadratic_gradient():\n",
    "    \"\"\"\n",
    "    For f(x) = 3x² + 2x + 1:\n",
    "    a) Compute derivative analytically\n",
    "    b) Calculate gradient at x=2\n",
    "    c) Use gradient to minimize (1 step, η=0.1)\n",
    "    \"\"\"\n",
    "    def f(x): return 3*x**2 + 2*x + 1\n",
    "    def df(x): return 6*x + 2  # Derivative\n",
    "    \n",
    "    gradient_at_2 = df(2)\n",
    "    new_x = 2 - 0.1 * gradient_at_2  # Gradient descent step\n",
    "    \n",
    "    return gradient_at_2, round(new_x, 2)\n",
    "\n",
    "print(quadratic_gradient())  # (14, 0.6)"
   ]
  },
  {
   "cell_type": "markdown",
   "id": "a8cee54e-f46e-4f13-b46b-396eee54f203",
   "metadata": {},
   "source": [
    "### 4 :  Partial Derivatives & Chain Rule (Partial Derivatives)"
   ]
  },
  {
   "cell_type": "code",
   "execution_count": 9,
   "id": "dc3b4b89-0c46-48f8-8f2b-f0fb201cca32",
   "metadata": {},
   "outputs": [
    {
     "name": "stdout",
     "output_type": "stream",
     "text": [
      "(28.0, 27.0)\n"
     ]
    }
   ],
   "source": [
    "def partial_derivatives():\n",
    "    \"\"\"\n",
    "    For f(x,y) = 3x²y + 2xy³:\n",
    "    Compute at (1,2):\n",
    "    a) ∂f/∂x \n",
    "    b) ∂f/∂y\n",
    "    \"\"\"\n",
    "    def f(x,y): return 3*x**2*y + 2*x*y**3\n",
    "    h = 0.0001\n",
    "    \n",
    "    # ∂f/∂x\n",
    "    df_dx = (f(1+h,2) - f(1,2)) / h\n",
    "    \n",
    "    # ∂f/∂y\n",
    "    df_dy = (f(1,2+h) - f(1,2)) / h\n",
    "    \n",
    "    return round(df_dx, 2), round(df_dy, 2)\n",
    "\n",
    "print(partial_derivatives())  # (28.00, 19.00)"
   ]
  },
  {
   "cell_type": "markdown",
   "id": "51601a29-1ce4-4b44-a56a-85d0711af4b4",
   "metadata": {},
   "source": [
    "### 5.1 : Optimization Basics (Cost Function Evaluation)"
   ]
  },
  {
   "cell_type": "code",
   "execution_count": 10,
   "id": "985906d2-f634-4c53-aa08-95d109a248ce",
   "metadata": {},
   "outputs": [
    {
     "name": "stdout",
     "output_type": "stream",
     "text": [
      "0.0833\n"
     ]
    }
   ],
   "source": [
    "def linear_regression_cost():\n",
    "    \"\"\"\n",
    "    For simple linear model y_pred = w*x + b\n",
    "    Compute MSE cost for:\n",
    "    x=[1,2,3], y_actual=[2,4,5], w=1.5, b=0.5\n",
    "    \"\"\"\n",
    "    x = [1,2,3]\n",
    "    y_actual = [2,4,5]\n",
    "    w, b = 1.5, 0.5\n",
    "    \n",
    "    squared_errors = []\n",
    "    for xi, yi in zip(x, y_actual):\n",
    "        y_pred = w*xi + b\n",
    "        squared_errors.append((yi - y_pred)**2)\n",
    "    \n",
    "    mse = sum(squared_errors)/len(x)\n",
    "    return round(mse, 4)\n",
    "\n",
    "print(linear_regression_cost())  # 0.8333"
   ]
  },
  {
   "cell_type": "markdown",
   "id": "d6e51e73-e36e-4d52-a4c8-596665458b0b",
   "metadata": {},
   "source": [
    "### 5.2 : Optimization Basics (Gradient Descent Implementation)"
   ]
  },
  {
   "cell_type": "code",
   "execution_count": 12,
   "id": "63ea06d0-b42a-41af-9464-7a481f61e736",
   "metadata": {},
   "outputs": [
    {
     "name": "stdout",
     "output_type": "stream",
     "text": [
      "(-1.48, 1.75)\n"
     ]
    }
   ],
   "source": [
    "def simple_gradient_descent():\n",
    "    \"\"\"\n",
    "    Minimize f(w) = w² + 3w + 4 using gradient descent:\n",
    "    - Start at w=0\n",
    "    - Learning rate η=0.1\n",
    "    - 20 iterations\n",
    "    Return final w and cost\n",
    "    \"\"\"\n",
    "    def f(w): return w**2 + 3*w + 4\n",
    "    def df(w): return 2*w + 3  # Derivative\n",
    "    \n",
    "    w, eta = 0, 0.1\n",
    "    for _ in range(20):\n",
    "        grad = df(w)\n",
    "        w -= eta * grad\n",
    "    \n",
    "    return round(w, 2), round(f(w), 2)\n",
    "\n",
    "print(simple_gradient_descent())  # (-1.5, 1.75)"
   ]
  },
  {
   "cell_type": "code",
   "execution_count": null,
   "id": "aca81232-4e4c-4e43-97cc-a5010c0fd5e4",
   "metadata": {},
   "outputs": [],
   "source": []
  },
  {
   "cell_type": "code",
   "execution_count": null,
   "id": "b864cea6-15a8-4db3-a75b-41cc22bf4ff8",
   "metadata": {},
   "outputs": [],
   "source": []
  },
  {
   "cell_type": "code",
   "execution_count": null,
   "id": "7ded85fd-31ff-4f8f-9cca-bedff298e41c",
   "metadata": {},
   "outputs": [],
   "source": []
  },
  {
   "cell_type": "code",
   "execution_count": null,
   "id": "f586ac90-7e11-4912-ba5e-e668d8c63563",
   "metadata": {},
   "outputs": [],
   "source": []
  },
  {
   "cell_type": "code",
   "execution_count": null,
   "id": "f4efadaf-624d-416a-b067-73a9058d729d",
   "metadata": {},
   "outputs": [],
   "source": []
  }
 ],
 "metadata": {
  "kernelspec": {
   "display_name": "Python 3 (ipykernel)",
   "language": "python",
   "name": "python3"
  },
  "language_info": {
   "codemirror_mode": {
    "name": "ipython",
    "version": 3
   },
   "file_extension": ".py",
   "mimetype": "text/x-python",
   "name": "python",
   "nbconvert_exporter": "python",
   "pygments_lexer": "ipython3",
   "version": "3.13.2"
  }
 },
 "nbformat": 4,
 "nbformat_minor": 5
}
